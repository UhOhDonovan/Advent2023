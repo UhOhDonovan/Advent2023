{
 "cells": [
  {
   "cell_type": "markdown",
   "metadata": {},
   "source": [
    "# Day 3\n"
   ]
  },
  {
   "cell_type": "code",
   "execution_count": 3,
   "metadata": {},
   "outputs": [],
   "source": [
    "import re\n",
    "import numpy as np"
   ]
  },
  {
   "cell_type": "code",
   "execution_count": 196,
   "metadata": {},
   "outputs": [],
   "source": [
    "class EngineSchematic:\n",
    "    def __init__(self, filename: str):\n",
    "        self.schematic = self.get_engine_schematic(filename)\n",
    "        self.previous_line = None\n",
    "        self.current_line = None\n",
    "        self.next_line = None\n",
    "        self.engine_numbers = []\n",
    "        self.engine_sum = 0\n",
    "        self.symbols = []\n",
    "        self.checked_positions = []\n",
    "        \n",
    "    @staticmethod \n",
    "    def get_engine_schematic(filename: str):\n",
    "        f = open(f'{filename}.txt', 'r')\n",
    "        f.seek(0)\n",
    "        schematic = np.array([\".\" + line.strip() + \".\" for line in f.readlines()])\n",
    "        return schematic\n",
    "    \n",
    "    def process_engine_schematic(self):\n",
    "        for index, line in enumerate(self.schematic, start=0):\n",
    "            self.symbols = []\n",
    "            self.previous_line = self.schematic[index - 1] if index > 0 else None\n",
    "            self.current_line = line\n",
    "            self.next_line = self.schematic[index + 1] if index < len(self.schematic) - 1 else None\n",
    "            \n",
    "            self.process_lines()\n",
    "            \n",
    "        for number in self.engine_numbers:\n",
    "            self.engine_sum += number\n",
    "            \n",
    "        print(self.engine_sum)\n",
    "            \n",
    "    def process_lines(self):\n",
    "        numbers = re.finditer(r\"\\d+\", self.current_line)\n",
    "        \n",
    "        lines = [line for line in [self.previous_line, self.current_line, self.next_line] if line is not None]\n",
    "        \n",
    "        for index, number_match in enumerate(numbers):\n",
    "            number = int(number_match.group())\n",
    "            start, end = number_match.span()\n",
    "            for line in lines:\n",
    "                for char in line[start-1:end+1]:\n",
    "                    if char != \".\" and not char.isdigit():\n",
    "                        self.engine_numbers.append(number)\n",
    "                        break\n",
    "\n",
    "    def get_gear_ratios(self):\n",
    "        for index, line in enumerate(self.schematic, start=0):\n",
    "            self.previous_line = self.schematic[index - 1] if index > 0 else None\n",
    "            self.current_line = line\n",
    "            self.next_line = self.schematic[index + 1] if index < len(self.schematic) - 1 else None\n",
    "\n",
    "            self.find_gears()\n",
    "\n",
    "        for number in self.engine_numbers:\n",
    "            self.engine_sum += number\n",
    "\n",
    "        print(self.engine_sum)\n",
    "\n",
    "    def find_gears(self):\n",
    "        lines = [line for line in [self.previous_line, self.current_line, self.next_line] if line is not None]\n",
    "        symbols = re.finditer(r\"\\*\", self.current_line)\n",
    "\n",
    "        for symbol in symbols:\n",
    "            position = symbol.start()\n",
    "            numbers = []\n",
    "            for line in lines:\n",
    "                numbers_in_line = re.finditer(r\"\\d+\", line)\n",
    "                for number in numbers_in_line:\n",
    "                    if position - 1 <= number.start() <= position + 1 or position - 1 <= number.end() - 1 <= position + 1:\n",
    "                        numbers.append(int(number.group()))\n",
    "            \n",
    "            if len(numbers) == 2:\n",
    "                n1, n2 = numbers\n",
    "                self.engine_numbers.append(n1 * n2)"
   ]
  },
  {
   "cell_type": "markdown",
   "metadata": {},
   "source": [
    "## Pt 1\n"
   ]
  },
  {
   "cell_type": "code",
   "execution_count": 185,
   "metadata": {},
   "outputs": [
    {
     "name": "stdout",
     "output_type": "stream",
     "text": [
      "549908\n"
     ]
    }
   ],
   "source": [
    "schematic_sum = EngineSchematic(filename=\"input\")\n",
    "schematic_sum.process_engine_schematic()"
   ]
  },
  {
   "cell_type": "markdown",
   "metadata": {},
   "source": [
    "## Pt 2"
   ]
  },
  {
   "cell_type": "code",
   "execution_count": 198,
   "metadata": {},
   "outputs": [
    {
     "name": "stdout",
     "output_type": "stream",
     "text": [
      "81166799\n"
     ]
    }
   ],
   "source": [
    "total_gear_ratio = EngineSchematic(filename=\"input\")\n",
    "total_gear_ratio.get_gear_ratios()"
   ]
  }
 ],
 "metadata": {
  "kernelspec": {
   "display_name": "LPR",
   "language": "python",
   "name": "python3"
  },
  "language_info": {
   "codemirror_mode": {
    "name": "ipython",
    "version": 3
   },
   "file_extension": ".py",
   "mimetype": "text/x-python",
   "name": "python",
   "nbconvert_exporter": "python",
   "pygments_lexer": "ipython3",
   "version": "3.11.6"
  }
 },
 "nbformat": 4,
 "nbformat_minor": 2
}
