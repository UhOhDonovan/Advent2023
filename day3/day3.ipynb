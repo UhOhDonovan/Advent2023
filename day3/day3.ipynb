{
 "cells": [
  {
   "cell_type": "markdown",
   "metadata": {},
   "source": [
    "# Day 3\n"
   ]
  },
  {
   "cell_type": "code",
   "execution_count": 3,
   "metadata": {},
   "outputs": [],
   "source": [
    "import re\n",
    "import numpy as np"
   ]
  },
  {
   "cell_type": "markdown",
   "metadata": {},
   "source": [
    "## Pt 1\n"
   ]
  },
  {
   "cell_type": "code",
   "execution_count": 53,
   "metadata": {},
   "outputs": [],
   "source": [
    "class EngineSchematic:\n",
    "    def __init__(self, filename: str):\n",
    "        self.schematic = self.get_engine_schematic(filename)\n",
    "        self.previous_line = None\n",
    "        self.current_line = None\n",
    "        self.next_line = None\n",
    "        self.engine_numbers = []\n",
    "        self.engine_sum = 0\n",
    "        self.symbols = []\n",
    "        self.checked_positions = []\n",
    "        \n",
    "    @staticmethod \n",
    "    def get_engine_schematic(filename: str):\n",
    "        f1 = open(f'{filename}.txt', 'r')\n",
    "        f1.seek(0)\n",
    "        schematic = np.array([line.strip() for line in f1.readlines()])\n",
    "        return schematic\n",
    "    \n",
    "    def process_engine_schematic(self):\n",
    "        for index, line in enumerate(self.schematic, start=0):\n",
    "            self.symbols = []\n",
    "            self.previous_line = self.schematic[index - 1] if index > 0 else None\n",
    "            self.current_line = line\n",
    "            self.next_line = self.schematic[index + 1] if index < len(self.schematic) - 1 else None\n",
    "            \n",
    "            self.process_lines()\n",
    "            \n",
    "        for number in self.engine_numbers:\n",
    "            self.engine_sum += number\n",
    "            \n",
    "        print(self.engine_sum)\n",
    "            \n",
    "    def process_lines(self):\n",
    "        numbers = re.findall(r\"-?\\d+\", self.current_line)\n",
    "        numbers = [int(num) for num in numbers]\n",
    "        \n",
    "        lines = [line for line in [self.previous_line, self.current_line, self.next_line] if line is not None]\n",
    "        for row_index, line in enumerate(lines):\n",
    "            for column_index, char in enumerate(line):\n",
    "                if char not in [\".\", \" \"] and not char.isdigit():\n",
    "                    self.symbols.append((char, row_index, column_index))\n",
    "        \n",
    "        checked_positions = []\n",
    "\n",
    "        for index, number in enumerate(numbers, start=0):\n",
    "            top, left, bottom, right, checked_positions = self.find_bounding_region(lines, number, checked_positions)\n",
    "            # print(index, number, end=\" \")\n",
    "            if top is not None:\n",
    "                for symbol, symbol_x, symbol_y in self.symbols:\n",
    "                    if top <= symbol_x <= bottom and left <= symbol_y <= right:\n",
    "                        self.engine_numbers.append(number)\n",
    "                        continue\n",
    "\n",
    "                    \n",
    "    @staticmethod\n",
    "    def find_bounding_region(matrix, number, checked_positions):\n",
    "        rows: int = len(matrix)\n",
    "        cols: int = len(matrix[0])\n",
    "        number_str: str = str(number)\n",
    "        \n",
    "        left = cols\n",
    "        right = -1\n",
    "        top = rows\n",
    "        bottom = -1\n",
    "        \n",
    "        def check_number_at(i, j):\n",
    "            if j + len(number_str) > cols:\n",
    "                return False \n",
    "            flag = True\n",
    "            for k in range(len(number_str)):\n",
    "                if matrix[i][j + k] == number_str[k]:\n",
    "                    flag = False\n",
    "            if flag:\n",
    "                return False\n",
    "            \n",
    "            # if j > 0 and matrix[i][j - i].isdigit():\n",
    "            #     return False\n",
    "            # if j + len(number_str) < cols and matrix[i][j + len(number_str)].isdigit():\n",
    "            #     return False\n",
    "            if (i, j) in checked_positions:\n",
    "                return False\n",
    "            return True\n",
    "        \n",
    "        for i in range(rows):\n",
    "            for j in range(cols):\n",
    "                if check_number_at(i, j):\n",
    "                    top = min(top, i)\n",
    "                    bottom = max(top, i)\n",
    "                    left = min(left, j)\n",
    "                    right = max(right, j + len(number_str) - 1)\n",
    "                    checked_positions.append((i, j))\n",
    "\n",
    "            \n",
    "        if right == 1:\n",
    "            return None\n",
    "        \n",
    "        left = max(0, left - 1)\n",
    "        right = min(cols - 1, right + 1)\n",
    "        top = max(0, top - 1)\n",
    "        bottom = min(rows - 1, bottom + 1)\n",
    "        \n",
    "        return top, left, bottom, right, checked_positions"
   ]
  },
  {
   "cell_type": "code",
   "execution_count": 62,
   "metadata": {},
   "outputs": [],
   "source": [
    "schematic_sum = EngineSchematic(filename=\"input\")\n",
    "schematic_sum.process_engine_schematic()"
   ]
  }
 ],
 "metadata": {
  "kernelspec": {
   "display_name": "LPR",
   "language": "python",
   "name": "python3"
  },
  "language_info": {
   "codemirror_mode": {
    "name": "ipython",
    "version": 3
   },
   "file_extension": ".py",
   "mimetype": "text/x-python",
   "name": "python",
   "nbconvert_exporter": "python",
   "pygments_lexer": "ipython3",
   "version": "3.11.6"
  }
 },
 "nbformat": 4,
 "nbformat_minor": 2
}
