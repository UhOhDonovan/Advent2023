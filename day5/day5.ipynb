{
 "cells": [
  {
   "cell_type": "markdown",
   "metadata": {},
   "source": [
    "# Day 5"
   ]
  },
  {
   "cell_type": "code",
   "execution_count": 11,
   "metadata": {},
   "outputs": [],
   "source": [
    "import re\n",
    "from itertools import groupby"
   ]
  },
  {
   "cell_type": "markdown",
   "metadata": {},
   "source": [
    "## Pt 1"
   ]
  },
  {
   "cell_type": "code",
   "execution_count": 47,
   "metadata": {},
   "outputs": [],
   "source": [
    "sampleinput = open(\"sampleinput.txt\", \"r\")\n",
    "sampleinput.seek(0)\n",
    "lines = sampleinput.readlines()"
   ]
  },
  {
   "cell_type": "code",
   "execution_count": 48,
   "metadata": {},
   "outputs": [],
   "source": [
    "grouped_lines = groupby(lines, key=lambda x: x == \"\\n\")\n",
    "non_blank_groups = (group for key, group in grouped_lines if not key)\n",
    "batches = [list(group) for group in non_blank_groups]"
   ]
  },
  {
   "cell_type": "code",
   "execution_count": 49,
   "metadata": {},
   "outputs": [],
   "source": [
    "seeds = [int(seed) for seed in re.findall(r\"\\d+\", batches[0][0])]\n",
    "seed_to_soil = [[int(num) for num in re.findall(r\"\\d+\", nums)] for index, nums in enumerate(batches[1]) if index != 0]\n",
    "soil_to_fertilizer = [[int(num) for num in re.findall(r\"\\d+\", nums)] for index, nums in enumerate(batches[2]) if index != 0]\n",
    "fertilizer_to_water = [[int(num) for num in re.findall(r\"\\d+\", nums)] for index, nums in enumerate(batches[3]) if index != 0]\n",
    "water_to_light = [[int(num) for num in re.findall(r\"\\d+\", nums)] for index, nums in enumerate(batches[4]) if index != 0]\n",
    "light_to_temperature = [[int(num) for num in re.findall(r\"\\d+\", nums)] for index, nums in enumerate(batches[5]) if index != 0]\n",
    "temperature_to_humidity = [[int(num) for num in re.findall(r\"\\d+\", nums)] for index, nums in enumerate(batches[6]) if index != 0]\n",
    "humidity_to_location = [[int(num) for num in re.findall(r\"\\d+\", nums)] for index, nums in enumerate(batches[7]) if index != 0]"
   ]
  }
 ],
 "metadata": {
  "kernelspec": {
   "display_name": ".venv",
   "language": "python",
   "name": "python3"
  },
  "language_info": {
   "codemirror_mode": {
    "name": "ipython",
    "version": 3
   },
   "file_extension": ".py",
   "mimetype": "text/x-python",
   "name": "python",
   "nbconvert_exporter": "python",
   "pygments_lexer": "ipython3",
   "version": "3.11.6"
  }
 },
 "nbformat": 4,
 "nbformat_minor": 2
}
