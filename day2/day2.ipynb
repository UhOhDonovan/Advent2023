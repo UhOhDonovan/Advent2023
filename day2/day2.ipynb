{
 "cells": [
  {
   "cell_type": "markdown",
   "metadata": {},
   "source": [
    "# Day 2"
   ]
  },
  {
   "cell_type": "code",
   "execution_count": 1,
   "metadata": {},
   "outputs": [],
   "source": [
    "import re"
   ]
  },
  {
   "cell_type": "markdown",
   "metadata": {},
   "source": [
    "## Pt 1"
   ]
  },
  {
   "cell_type": "code",
   "execution_count": 22,
   "metadata": {},
   "outputs": [],
   "source": [
    "f1 = open(\"input.txt\", 'r')"
   ]
  },
  {
   "cell_type": "code",
   "execution_count": 10,
   "metadata": {},
   "outputs": [],
   "source": [
    "big_dict = {\n",
    "    \"red\": 12,\n",
    "    \"green\": 13,\n",
    "    \"blue\": 14,\n",
    "}"
   ]
  },
  {
   "cell_type": "code",
   "execution_count": 23,
   "metadata": {},
   "outputs": [
    {
     "name": "stdout",
     "output_type": "stream",
     "text": [
      "2512\n"
     ]
    }
   ],
   "source": [
    "sum = 0\n",
    "f1.seek(0)\n",
    "for line in f1:\n",
    "    game = re.split(r\":|;\", line)\n",
    "    id = int(game[0].split(\" \")[-1])\n",
    "    flag = False\n",
    "    for index, round in enumerate(game):   \n",
    "        if index == 0:\n",
    "            continue\n",
    "        for color in round.split(\",\"):\n",
    "            if int(color.strip().split(\" \")[0]) > big_dict[color.strip().split(\" \")[-1]]:\n",
    "                flag = True\n",
    "                break\n",
    "    sum += id if not flag else 0\n",
    "        \n",
    "\n",
    "print(sum)"
   ]
  },
  {
   "cell_type": "markdown",
   "metadata": {},
   "source": [
    "## Pt 2"
   ]
  },
  {
   "cell_type": "code",
   "execution_count": 28,
   "metadata": {},
   "outputs": [],
   "source": [
    "f2 = open(\"input.txt\", \"r\")"
   ]
  },
  {
   "cell_type": "code",
   "execution_count": 29,
   "metadata": {},
   "outputs": [
    {
     "name": "stdout",
     "output_type": "stream",
     "text": [
      "67335\n"
     ]
    }
   ],
   "source": [
    "sum = 0\n",
    "f2.seek(0)\n",
    "for line in f2:\n",
    "    red = [int(match.split(\" \")[0]) for match in re.findall(r\"\\d+ red\", line)]\n",
    "    green = [int(match.split(\" \")[0]) for match in re.findall(r\"\\d+ green\", line)]\n",
    "    blue = [int(match.split(\" \")[0]) for match in re.findall(r\"\\d+ blue\", line)]\n",
    "\n",
    "    sum += max(red) * max(green) * max(blue)\n",
    "\n",
    "print(sum)\n"
   ]
  }
 ],
 "metadata": {
  "kernelspec": {
   "display_name": ".venv",
   "language": "python",
   "name": "python3"
  },
  "language_info": {
   "codemirror_mode": {
    "name": "ipython",
    "version": 3
   },
   "file_extension": ".py",
   "mimetype": "text/x-python",
   "name": "python",
   "nbconvert_exporter": "python",
   "pygments_lexer": "ipython3",
   "version": "3.11.6"
  }
 },
 "nbformat": 4,
 "nbformat_minor": 2
}
