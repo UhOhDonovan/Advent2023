{
 "cells": [
  {
   "cell_type": "markdown",
   "metadata": {},
   "source": [
    "# Day 1"
   ]
  },
  {
   "cell_type": "code",
   "execution_count": 38,
   "metadata": {},
   "outputs": [],
   "source": [
    "import re"
   ]
  },
  {
   "cell_type": "markdown",
   "metadata": {},
   "source": [
    "## Pt 1"
   ]
  },
  {
   "cell_type": "code",
   "execution_count": 43,
   "metadata": {},
   "outputs": [],
   "source": [
    "f1 = open(\"input.txt\", \"r\")"
   ]
  },
  {
   "cell_type": "code",
   "execution_count": 21,
   "metadata": {},
   "outputs": [
    {
     "name": "stdout",
     "output_type": "stream",
     "text": [
      "55447\n"
     ]
    }
   ],
   "source": [
    "sum = 0\n",
    "f1.seek(0)\n",
    "for line in f1:\n",
    "    num_string = re.sub(\"[^0-9]\", \"\", line)\n",
    "    sum += (int(num_string[0] + num_string[-1]))\n",
    "print(sum)"
   ]
  },
  {
   "cell_type": "markdown",
   "metadata": {},
   "source": [
    "## Pt 2"
   ]
  },
  {
   "cell_type": "code",
   "execution_count": 44,
   "metadata": {},
   "outputs": [],
   "source": [
    "f2 = open(\"input.txt\", \"r\")"
   ]
  },
  {
   "cell_type": "code",
   "execution_count": 46,
   "metadata": {},
   "outputs": [],
   "source": [
    "big_dict = {\n",
    "    'one': '1',\n",
    "    'two': '2',\n",
    "    'three': '3',\n",
    "    'four': '4',\n",
    "    'five': '5',\n",
    "    'six': '6',\n",
    "    'seven': '7',\n",
    "    'eight': '8',\n",
    "    'nine': '9',\n",
    "    'zero': '0'\n",
    "}"
   ]
  },
  {
   "cell_type": "code",
   "execution_count": 47,
   "metadata": {},
   "outputs": [
    {
     "name": "stdout",
     "output_type": "stream",
     "text": [
      "54706\n"
     ]
    }
   ],
   "source": [
    "sum = 0\n",
    "f2.seek(0)\n",
    "for line in f2:\n",
    "    results = re.findall(r\"(?=(one|two|three|four|five|six|seven|eight|nine|\\d))\", line)\n",
    "    try:\n",
    "        sum += (int(big_dict[results[0]] + big_dict[results[-1]]))\n",
    "    except KeyError:\n",
    "        try:\n",
    "            sum += (int(results[0] + big_dict[results[-1]]))\n",
    "        except KeyError:\n",
    "            try: \n",
    "                sum += (int(big_dict[results[0]] + results[-1]))\n",
    "            except KeyError:\n",
    "                sum += (int(results[0] + results[-1]))\n",
    "print(sum)"
   ]
  }
 ],
 "metadata": {
  "kernelspec": {
   "display_name": "Python 3",
   "language": "python",
   "name": "python3"
  },
  "language_info": {
   "codemirror_mode": {
    "name": "ipython",
    "version": 3
   },
   "file_extension": ".py",
   "mimetype": "text/x-python",
   "name": "python",
   "nbconvert_exporter": "python",
   "pygments_lexer": "ipython3",
   "version": "3.11.6"
  }
 },
 "nbformat": 4,
 "nbformat_minor": 2
}
