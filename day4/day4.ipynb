{
 "cells": [
  {
   "cell_type": "markdown",
   "metadata": {},
   "source": [
    "# Day 4\n"
   ]
  },
  {
   "cell_type": "code",
   "execution_count": 10,
   "metadata": {},
   "outputs": [],
   "source": [
    "import re\n",
    "import math"
   ]
  },
  {
   "cell_type": "markdown",
   "metadata": {},
   "source": [
    "## Pt 1\n"
   ]
  },
  {
   "cell_type": "code",
   "execution_count": 41,
   "metadata": {},
   "outputs": [],
   "source": [
    "f1 = open(\"input.txt\", \"r\")"
   ]
  },
  {
   "cell_type": "code",
   "execution_count": 29,
   "metadata": {},
   "outputs": [
    {
     "name": "stdout",
     "output_type": "stream",
     "text": [
      "21158\n"
     ]
    }
   ],
   "source": [
    "sum = 0\n",
    "f1.seek(0)\n",
    "for line in f1.readlines():\n",
    "    _, winning_line, your_line = re.split(r\"\\||Card\\s+\\d+:\", line.strip())\n",
    "    winning_numbers = [int(number) for number in re.findall(r\"\\d+\", winning_line)]\n",
    "    your_numbers = [int(number) for number in re.findall(r\"\\d+\", your_line)]\n",
    "    line_sum = 0\n",
    "    for number in winning_numbers:\n",
    "        if number in your_numbers:\n",
    "            line_sum = 2 * line_sum if line_sum != 0 else 1\n",
    "    sum += line_sum\n",
    "            \n",
    "print(sum)"
   ]
  },
  {
   "cell_type": "code",
   "execution_count": 42,
   "metadata": {},
   "outputs": [
    {
     "name": "stdout",
     "output_type": "stream",
     "text": [
      "6050769\n"
     ]
    }
   ],
   "source": [
    "sum = 0\n",
    "f1.seek(0)\n",
    "lines = f1.readlines()\n",
    "copies: dict[int: int] = {index + 1 : 1 for index in range(len(lines))}\n",
    "for line_number, line in enumerate(lines):\n",
    "    _, winning_line, your_line = re.split(r\"\\||Card\\s+\\d+:\", line.strip())\n",
    "    winning_numbers = [int(number) for number in re.findall(r\"\\d+\", winning_line)]\n",
    "    your_numbers = [int(number) for number in re.findall(r\"\\d+\", your_line)]\n",
    "    for i in range(copies[line_number + 1]):\n",
    "        counter = 0\n",
    "        for index, number in enumerate(winning_numbers):\n",
    "            if number in your_numbers:\n",
    "                counter += 1\n",
    "                copies[line_number + counter + 1] = copies[line_number + counter + 1] + 1\n",
    "for key, copy in copies.items():\n",
    "    sum += copy\n",
    "print(sum)"
   ]
  },
  {
   "cell_type": "markdown",
   "metadata": {},
   "source": [
    "## Pt 2\n"
   ]
  }
 ],
 "metadata": {
  "kernelspec": {
   "display_name": "LPR",
   "language": "python",
   "name": "python3"
  },
  "language_info": {
   "codemirror_mode": {
    "name": "ipython",
    "version": 3
   },
   "file_extension": ".py",
   "mimetype": "text/x-python",
   "name": "python",
   "nbconvert_exporter": "python",
   "pygments_lexer": "ipython3",
   "version": "3.11.4"
  }
 },
 "nbformat": 4,
 "nbformat_minor": 2
}
